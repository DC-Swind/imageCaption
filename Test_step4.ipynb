{
 "cells": [
  {
   "cell_type": "markdown",
   "metadata": {
    "toc": "true"
   },
   "source": [
    " # Table of Contents\n",
    "<div class=\"toc\" style=\"margin-top: 1em;\"><ul class=\"toc-item\" id=\"toc-level0\"><li><span><a href=\"http://localhost:8888/notebooks/Test_step4.ipynb#模型测试\" data-toc-modified-id=\"模型测试-1\"><span class=\"toc-item-num\">1&nbsp;&nbsp;</span>模型测试</a></span><ul class=\"toc-item\"><li><span><a href=\"http://localhost:8888/notebooks/Test_step4.ipynb#导入工具包，并选择GPU卡\" data-toc-modified-id=\"导入工具包，并选择GPU卡-1.1\"><span class=\"toc-item-num\">1.1&nbsp;&nbsp;</span>导入工具包，并选择GPU卡</a></span></li><li><span><a href=\"http://localhost:8888/notebooks/Test_step4.ipynb#默认参数设置\" data-toc-modified-id=\"默认参数设置-1.2\"><span class=\"toc-item-num\">1.2&nbsp;&nbsp;</span>默认参数设置</a></span></li><li><span><a href=\"http://localhost:8888/notebooks/Test_step4.ipynb#导入模型以及所需的信息\" data-toc-modified-id=\"导入模型以及所需的信息-1.3\"><span class=\"toc-item-num\">1.3&nbsp;&nbsp;</span>导入模型以及所需的信息</a></span></li></ul></li></ul></div>"
   ]
  },
  {
   "cell_type": "markdown",
   "metadata": {
    "collapsed": true
   },
   "source": [
    "# 模型测试\n",
    "这是Image_Caption第四个运行的代码,就是用第三步已经训练好的模型对测试数据进行测试并输出最终的结果并进行提交."
   ]
  },
  {
   "cell_type": "markdown",
   "metadata": {},
   "source": [
    "## 导入工具包，并选择GPU卡"
   ]
  },
  {
   "cell_type": "code",
   "execution_count": null,
   "metadata": {
    "collapsed": true
   },
   "outputs": [],
   "source": [
    "from __future__ import absolute_import\n",
    "from __future__ import division\n",
    "from __future__ import print_function\n",
    "\n",
    "import json\n",
    "import numpy as np\n",
    "\n",
    "import time\n",
    "import os\n",
    "from six.moves import cPickle\n",
    "\n",
    "import opts\n",
    "import models\n",
    "from dataloader import *\n",
    "# from dataloaderraw import *\n",
    "import eval_utils\n",
    "import argparse\n",
    "import misc.utils as utils\n",
    "import torch\n",
    "os.environ['CUDA_VISIBLE_DEVICES'] = '1'"
   ]
  },
  {
   "cell_type": "markdown",
   "metadata": {},
   "source": [
    "## 默认参数设置\n",
    "- model: 第三步训练得到的模型\n",
    "- infos_path: 与model对应的数据的信息,包括词典等信息\n",
    "- cnn_model:对图像进行预处理的模型，默认的是resnet152\n",
    "- image_folder: 测试图片的位置\n",
    "- split: 因为此处是为了测试使用,所以需要设置为test,前面的是train和val\n",
    "- 其他的特征都和网络结构有关,请自行理解."
   ]
  },
  {
   "cell_type": "code",
   "execution_count": null,
   "metadata": {
    "collapsed": true
   },
   "outputs": [],
   "source": [
    "class Opt():\n",
    "    def __init__(self):\n",
    "        self.model = './log_st/model-best_attention.pth'\n",
    "        self.cnn_model = 'resnet152' \n",
    "        self.infos_path = './log_st/infos_attention.pkl'\n",
    "        \n",
    "        self.batch_size = 20 \n",
    "        self.num_images = -1 \n",
    "        self.language_eval = 0  \n",
    "        self.dump_images = 1 \n",
    "        self.dump_json =1\n",
    "        self.dump_path = 0\n",
    "        \n",
    "        \n",
    "        self.sample_max = 1 #\n",
    "        \n",
    "        self.beam_size = 2\n",
    "        self.temperature = 1.0\n",
    "        self.image_folder = '/home/jiangqy/EXP/competition/data/captions/ai_challenger_caption_test1_20170923/caption_test1_images_20170923'\n",
    "        self.image_root  = ''\n",
    "        self.input_fc_dir = ''\n",
    "        self.input_att_dir  = ''\n",
    "\n",
    "        self.input_label_h5 = ''\n",
    "        self.input_json = ''\n",
    "        self.split = 'test'\n",
    "\n",
    "        self.coco_json = ''\n",
    "        self.id = ''"
   ]
  },
  {
   "cell_type": "code",
   "execution_count": null,
   "metadata": {
    "collapsed": true
   },
   "outputs": [],
   "source": [
    "opt = Opt() \n",
    "opt.infos_path = './log_st/infos_-best_attention.pkl'"
   ]
  },
  {
   "cell_type": "markdown",
   "metadata": {},
   "source": [
    "## 导入模型以及所需的信息"
   ]
  },
  {
   "cell_type": "code",
   "execution_count": null,
   "metadata": {
    "collapsed": true
   },
   "outputs": [],
   "source": [
    "# Load infos\n",
    "with open(opt.infos_path) as f:\n",
    "    infos = cPickle.load(f)"
   ]
  },
  {
   "cell_type": "code",
   "execution_count": null,
   "metadata": {
    "collapsed": true
   },
   "outputs": [],
   "source": [
    "# override and collect parameters\n",
    "if len(opt.input_fc_dir) == 0:\n",
    "    opt.input_fc_h5 = infos['opt'].input_fc_h5\n",
    "    opt.input_att_h5 = infos['opt'].input_att_h5\n",
    "    opt.input_label_h5 = infos['opt'].input_label_h5 \n",
    "if len(opt.input_json) == 0:\n",
    "    opt.input_json = infos['opt'].input_json\n",
    "if opt.batch_size == 0:\n",
    "    opt.batch_size = infos['opt'].batch_size\n",
    "if len(opt.id) == 0:\n",
    "    opt.id = infos['opt'].id\n",
    "ignore = [\"id\", \"batch_size\", \"beam_size\", \"start_from\", \"language_eval\"]"
   ]
  },
  {
   "cell_type": "code",
   "execution_count": null,
   "metadata": {
    "collapsed": true
   },
   "outputs": [],
   "source": [
    "for k in vars(infos['opt']).keys():\n",
    "    if k not in ignore:\n",
    "        if k in vars(opt):\n",
    "            assert vars(opt)[k] == vars(infos['opt'])[k], k + ' option not consistent'\n",
    "        else:\n",
    "            vars(opt).update({k: vars(infos['opt'])[k]}) # copy over options from model \n",
    "vocab = infos['vocab'] # ix -> word mapping"
   ]
  },
  {
   "cell_type": "code",
   "execution_count": null,
   "metadata": {
    "collapsed": true
   },
   "outputs": [],
   "source": [
    "from dataloaderraw import *\n",
    "if len(opt.image_folder) == 0:\n",
    "    loader = DataLoader(opt)\n",
    "else:\n",
    "    loader = DataLoaderRaw({'folder_path': opt.image_folder, \n",
    "                            'coco_json': opt.coco_json,\n",
    "                            'batch_size': opt.batch_size,\n",
    "                            'cnn_model': opt.cnn_model})\n",
    "loader.ix_to_word = infos['vocab']"
   ]
  },
  {
   "cell_type": "code",
   "execution_count": null,
   "metadata": {
    "collapsed": true
   },
   "outputs": [],
   "source": [
    "# Setup the model\n",
    "model = models.setup(opt)\n",
    "# opt.batch_size = 20\n",
    "model.load_state_dict(torch.load(opt.model))\n",
    "model.cuda()\n",
    "model.eval()\n",
    "crit = utils.LanguageModelCriterion()"
   ]
  },
  {
   "cell_type": "markdown",
   "metadata": {
    "collapsed": true
   },
   "source": [
    "** beam_size ** 的设置相对比较重要,show_and_tell中贪心和设置为5线上成绩相差了接近2个点."
   ]
  },
  {
   "cell_type": "code",
   "execution_count": null,
   "metadata": {
    "collapsed": true
   },
   "outputs": [],
   "source": [
    "opt.beam_size = 5 \n",
    "loss, split_predictions, lang_stats = eval_utils.eval_split_test(model, crit, loader, vars(opt))"
   ]
  },
  {
   "cell_type": "code",
   "execution_count": null,
   "metadata": {
    "collapsed": true
   },
   "outputs": [],
   "source": [
    "for item in split_predictions:\n",
    "    item['caption'] = (item['caption']).replace(' ','')\n",
    "    \n",
    "json.dump(split_predictions, open('./res/res_attention_new_8.json', 'w'))"
   ]
  }
 ],
 "metadata": {
  "anaconda-cloud": {},
  "kernelspec": {
   "display_name": "Python [Root]",
   "language": "python",
   "name": "Python [Root]"
  },
  "language_info": {
   "codemirror_mode": {
    "name": "ipython",
    "version": 3.0
   },
   "file_extension": ".py",
   "mimetype": "text/x-python",
   "name": "python",
   "nbconvert_exporter": "python",
   "pygments_lexer": "ipython3",
   "version": "3.5.2"
  },
  "toc": {
   "nav_menu": {},
   "number_sections": true,
   "sideBar": true,
   "skip_h1_title": false,
   "toc_cell": true,
   "toc_position": {},
   "toc_section_display": "block",
   "toc_window_display": false
  }
 },
 "nbformat": 4,
 "nbformat_minor": 0
}